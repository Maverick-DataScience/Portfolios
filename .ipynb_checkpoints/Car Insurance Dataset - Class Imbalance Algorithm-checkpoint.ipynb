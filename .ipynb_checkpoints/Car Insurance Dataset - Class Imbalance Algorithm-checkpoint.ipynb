{
 "cells": [
  {
   "cell_type": "markdown",
   "id": "d39a3a6f",
   "metadata": {},
   "source": [
    "\n",
    "<h1 style=\"font-family: 'Georgia'; font-size: 42px;\">\n",
    "    Predictive Model For Insurance Claims \n",
    "    <br>(3-25 min)</br>\n",
    "</h1>\n"
   ]
  },
  {
   "cell_type": "code",
   "execution_count": 15,
   "id": "32e30ec0",
   "metadata": {},
   "outputs": [
    {
     "data": {
      "text/html": [
       "\n",
       "<style>\n",
       "    p {\n",
       "        font-family: 'Arial';\n",
       "        font-size: 18px;\n",
       "        line-height: 1.5;\n",
       "    }\n",
       "    h1 {\n",
       "        font-family: 'Arial';\n",
       "        font-size: 24px;\n",
       "    }\n",
       "</style>\n"
      ],
      "text/plain": [
       "<IPython.core.display.HTML object>"
      ]
     },
     "execution_count": 15,
     "metadata": {},
     "output_type": "execute_result"
    }
   ],
   "source": [
    "from IPython.core.display import HTML\n",
    "\n",
    "# Define custom styles for the notebook\n",
    "HTML('''\n",
    "<style>\n",
    "    p {\n",
    "        font-family: 'Arial';\n",
    "        font-size: 18px;\n",
    "        line-height: 1.5;\n",
    "    }\n",
    "    h1 {\n",
    "        font-family: 'Arial';\n",
    "        font-size: 24px;\n",
    "    }\n",
    "</style>\n",
    "''')"
   ]
  },
  {
   "cell_type": "markdown",
   "id": "23e6cf7f",
   "metadata": {},
   "source": [
    "# Author's Note\n",
    "This article is intended for both students and the general public. <b>If you're only seeking a conclusion, feel free to skip to Results(3min)</b>, which told what method is the best. The report is designed to be light and approachable, focusing on quick, practical solutions that solve 90% of issues without requiring complex computing.\n",
    "\n",
    "For those who are learning, I hope this article helps you along the way. I’m grateful for your interest, and I encourage you to share any feedback, recommendations, or improvements. Feel free to reach out to me via email at maverick.article@gmail.com."
   ]
  },
  {
   "cell_type": "markdown",
   "id": "893e2c50",
   "metadata": {},
   "source": [
    "# Overview (2min)"
   ]
  },
  {
   "cell_type": "markdown",
   "id": "1e9a27bf",
   "metadata": {},
   "source": [
    "<p style=\"font-family: 'Arial', sans-serif; font-size: 18px; line-height: 1.5;\">\n",
    "    In the world of insurance, claims are rarely made, and for many policyholders, they may never be made at all. The chances of a claim occurring are near zero. This fundamental challenge of insurance claims makes it difficult for insurance companies to create an algorithm to predict the likelihood of an individual to make a claim or not.\n",
    "    <br></br>\n",
    "    This scenario suffers from what is known as classification imbalance (CI), where there is not enough information in certain classes for machine learning algorithms to effectively predict outcomes. Where there is insufficient data in certain classes, the algorithm's performance would suffer. To give an example, assuming the actual insurance claims are only 2% of all premiums, we could have just written down this code:\n",
    "</p>\n"
   ]
  },
  {
   "cell_type": "markdown",
   "id": "5d636b00",
   "metadata": {},
   "source": [
    "```{python}\n",
    "claims=\"no insurance claims\"\n",
    "claims\n",
    "```"
   ]
  },
  {
   "cell_type": "markdown",
   "id": "47fea264",
   "metadata": {},
   "source": [
    "<p style=\"font-family: 'Arial', sans-serif; font-size: 18px; line-height: 1.5;\">\n",
    "And just like that, we would achieve a beautiful data scientist's hallucination of 98% accuracy. A very impressive result, right? I would have receive call from all insurance company CEO begging me to work with them. But instead, we're just making their life more difficult -and yet, somehow, still couldn't find a job.\n",
    "<br></br>\n",
    "</p>\n",
    "\n",
    "### Reading Reference\n",
    "* [A survey on single and multi omics data mining methods in cancer data classification](https://www.sciencedirect.com/science/article/pii/S1532046420300939)\n",
    "* [A comprehensive review of object detection with deep learning](https://www.sciencedirect.com/science/article/pii/S1051200422004298) \n",
    "* [Learning From Imbalance Data](https://www.researchgate.net/publication/224541268_Learning_from_Imbalanced_Data) \n",
    "* [Classification with class imbalance problem: A review](https://www.researchgate.net/publication/288228469_Classification_with_class_imbalance_problem_A_review)\n",
    "* [Frank Harrell: Classification vs. Prediction](https://www.fharrell.com/post/classification/)\n",
    "* [PRO-SMOTEBoost: An adaptive SMOTEBoost probabilistic algorithm for rebalancing and improving imbalanced data classification](https://www.sciencedirect.com/science/article/pii/S0020025524014622#:~:text=SMOTEBoost%20rebalances%20many%20highly%20and,changing%20the%20update%20weights%20and)"
   ]
  },
  {
   "cell_type": "markdown",
   "id": "39f31ea2",
   "metadata": {},
   "source": [
    "<h1 style=\"font-size: 40px;\">Dataset (1min)</h1>"
   ]
  },
  {
   "cell_type": "markdown",
   "id": "a68aad5a",
   "metadata": {},
   "source": [
    "The dataset for car insurance model is collected from [statso.io](https://statso.io/car-insurance-modelling-case-study/) . Below is the feature and the description of the feature:"
   ]
  },
  {
   "cell_type": "markdown",
   "id": "70c375ec",
   "metadata": {},
   "source": [
    "| Feature                                                                                       | Description                                                                                                                                                                      |\n",
    "|-----------------------------------------------------------------------------------------------|----------------------------------------------------------------------------------------------------------------------------------------------------------------------------------|\n",
    "| policy_id                                                                                     | Unique identifier for the insurance policy.                                                                                                                                      |\n",
    "| subscription_length                                                                           | The duration for which the insurance policy is active.                                                                                                                           |\n",
    "| customer_age                                                                                  | Age of the insurance policyholder, which can influence the likelihood of claims.                                                                                                 |\n",
    "| vehicle_age                                                                                   | Age of the vehicle insured, which may affect the probability of claims due to factors like wear and tear.                                                                        |\n",
    "| model                                                                                         | The model of the vehicle, which could impact the claim frequency due to model-specific characteristics.                                                                          |\n",
    "| fuel_type                                                                                     | Type of fuel the vehicle uses (e.g., Petrol, Diesel, CNG), which might influence the risk profile and claim likelihood.                                                          |\n",
    "| max_torque, max_power                                                                         | Engine performance characteristics that could relate to the vehicle’s mechanical condition and claim risks.                                                                      |\n",
    "| engine_type                                                                                   | The type of engine, which might have implications for maintenance and claim rates.                                                                                               |\n",
    "| displacement, cylinder                                                                        | Specifications related to the engine size and construction, affecting the vehicle’s performance and potentially its claim history.                                               |\n",
    "| region_code                                                                                   | The code representing the geographical region of the policyholder, as claim patterns can vary regionally.                                                                        |\n",
    "| region_density                                                                                | Population density of the policyholder’s region, which could correlate with accident and claim frequencies.                                                                      |\n",
    "| airbags                                                                                       | The number of airbags in the vehicle, indicating safety level which can influence claim probability.                                                                             |\n",
    "| is_esc (Electronic Stability Control), is_adjustable_steering, is_tpms (Tire Pressure Monitoring System) | Features that enhance vehicle safety and could potentially reduce the likelihood of claims.                                                                  |\n",
    "| is_parking_sensors, is_parking_camera                                                         | Parking aids that might affect the probability of making a claim, especially in urban areas.                                                                                     |\n",
    "| rear_brakes_type                                                                              | Type of rear brakes, which could be related to the vehicle’s stopping capability and safety.                                                                                     |\n",
    "| Various binary indicators (Yes/No) for specific vehicle amenities and safety features         | Features like steering_type, turning_radius, length, width, gross_weight, etc., which together build a profile of the vehicle’s characteristics and its associated risk factors. |\n",
    "| claim_status   | Indicates whether a claim was made (1) or not (0), which is the dependent variable the model aims to predict.|"
   ]
  },
  {
   "cell_type": "code",
   "execution_count": 1,
   "id": "e0051e26",
   "metadata": {
    "scrolled": true
   },
   "outputs": [
    {
     "data": {
      "text/html": [
       "<div>\n",
       "<style scoped>\n",
       "    .dataframe tbody tr th:only-of-type {\n",
       "        vertical-align: middle;\n",
       "    }\n",
       "\n",
       "    .dataframe tbody tr th {\n",
       "        vertical-align: top;\n",
       "    }\n",
       "\n",
       "    .dataframe thead th {\n",
       "        text-align: right;\n",
       "    }\n",
       "</style>\n",
       "<table border=\"1\" class=\"dataframe\">\n",
       "  <thead>\n",
       "    <tr style=\"text-align: right;\">\n",
       "      <th></th>\n",
       "      <th>policy_id</th>\n",
       "      <th>subscription_length</th>\n",
       "      <th>vehicle_age</th>\n",
       "      <th>customer_age</th>\n",
       "      <th>region_code</th>\n",
       "      <th>region_density</th>\n",
       "      <th>segment</th>\n",
       "      <th>model</th>\n",
       "      <th>fuel_type</th>\n",
       "      <th>max_torque</th>\n",
       "      <th>...</th>\n",
       "      <th>is_brake_assist</th>\n",
       "      <th>is_power_door_locks</th>\n",
       "      <th>is_central_locking</th>\n",
       "      <th>is_power_steering</th>\n",
       "      <th>is_driver_seat_height_adjustable</th>\n",
       "      <th>is_day_night_rear_view_mirror</th>\n",
       "      <th>is_ecw</th>\n",
       "      <th>is_speed_alert</th>\n",
       "      <th>ncap_rating</th>\n",
       "      <th>claim_status</th>\n",
       "    </tr>\n",
       "  </thead>\n",
       "  <tbody>\n",
       "    <tr>\n",
       "      <th>0</th>\n",
       "      <td>POL045360</td>\n",
       "      <td>9.3</td>\n",
       "      <td>1.2</td>\n",
       "      <td>41</td>\n",
       "      <td>C8</td>\n",
       "      <td>8794</td>\n",
       "      <td>C2</td>\n",
       "      <td>M4</td>\n",
       "      <td>Diesel</td>\n",
       "      <td>250Nm@2750rpm</td>\n",
       "      <td>...</td>\n",
       "      <td>Yes</td>\n",
       "      <td>Yes</td>\n",
       "      <td>Yes</td>\n",
       "      <td>Yes</td>\n",
       "      <td>Yes</td>\n",
       "      <td>No</td>\n",
       "      <td>Yes</td>\n",
       "      <td>Yes</td>\n",
       "      <td>3</td>\n",
       "      <td>0</td>\n",
       "    </tr>\n",
       "    <tr>\n",
       "      <th>1</th>\n",
       "      <td>POL016745</td>\n",
       "      <td>8.2</td>\n",
       "      <td>1.8</td>\n",
       "      <td>35</td>\n",
       "      <td>C2</td>\n",
       "      <td>27003</td>\n",
       "      <td>C1</td>\n",
       "      <td>M9</td>\n",
       "      <td>Diesel</td>\n",
       "      <td>200Nm@1750rpm</td>\n",
       "      <td>...</td>\n",
       "      <td>No</td>\n",
       "      <td>Yes</td>\n",
       "      <td>Yes</td>\n",
       "      <td>Yes</td>\n",
       "      <td>Yes</td>\n",
       "      <td>Yes</td>\n",
       "      <td>Yes</td>\n",
       "      <td>Yes</td>\n",
       "      <td>4</td>\n",
       "      <td>0</td>\n",
       "    </tr>\n",
       "    <tr>\n",
       "      <th>2</th>\n",
       "      <td>POL007194</td>\n",
       "      <td>9.5</td>\n",
       "      <td>0.2</td>\n",
       "      <td>44</td>\n",
       "      <td>C8</td>\n",
       "      <td>8794</td>\n",
       "      <td>C2</td>\n",
       "      <td>M4</td>\n",
       "      <td>Diesel</td>\n",
       "      <td>250Nm@2750rpm</td>\n",
       "      <td>...</td>\n",
       "      <td>Yes</td>\n",
       "      <td>Yes</td>\n",
       "      <td>Yes</td>\n",
       "      <td>Yes</td>\n",
       "      <td>Yes</td>\n",
       "      <td>No</td>\n",
       "      <td>Yes</td>\n",
       "      <td>Yes</td>\n",
       "      <td>3</td>\n",
       "      <td>0</td>\n",
       "    </tr>\n",
       "    <tr>\n",
       "      <th>3</th>\n",
       "      <td>POL018146</td>\n",
       "      <td>5.2</td>\n",
       "      <td>0.4</td>\n",
       "      <td>44</td>\n",
       "      <td>C10</td>\n",
       "      <td>73430</td>\n",
       "      <td>A</td>\n",
       "      <td>M1</td>\n",
       "      <td>CNG</td>\n",
       "      <td>60Nm@3500rpm</td>\n",
       "      <td>...</td>\n",
       "      <td>No</td>\n",
       "      <td>No</td>\n",
       "      <td>No</td>\n",
       "      <td>Yes</td>\n",
       "      <td>No</td>\n",
       "      <td>No</td>\n",
       "      <td>No</td>\n",
       "      <td>Yes</td>\n",
       "      <td>0</td>\n",
       "      <td>0</td>\n",
       "    </tr>\n",
       "    <tr>\n",
       "      <th>4</th>\n",
       "      <td>POL049011</td>\n",
       "      <td>10.1</td>\n",
       "      <td>1.0</td>\n",
       "      <td>56</td>\n",
       "      <td>C13</td>\n",
       "      <td>5410</td>\n",
       "      <td>B2</td>\n",
       "      <td>M5</td>\n",
       "      <td>Diesel</td>\n",
       "      <td>200Nm@3000rpm</td>\n",
       "      <td>...</td>\n",
       "      <td>No</td>\n",
       "      <td>Yes</td>\n",
       "      <td>Yes</td>\n",
       "      <td>Yes</td>\n",
       "      <td>No</td>\n",
       "      <td>No</td>\n",
       "      <td>Yes</td>\n",
       "      <td>Yes</td>\n",
       "      <td>5</td>\n",
       "      <td>0</td>\n",
       "    </tr>\n",
       "  </tbody>\n",
       "</table>\n",
       "<p>5 rows × 41 columns</p>\n",
       "</div>"
      ],
      "text/plain": [
       "   policy_id  subscription_length  vehicle_age  customer_age region_code  \\\n",
       "0  POL045360                  9.3          1.2            41          C8   \n",
       "1  POL016745                  8.2          1.8            35          C2   \n",
       "2  POL007194                  9.5          0.2            44          C8   \n",
       "3  POL018146                  5.2          0.4            44         C10   \n",
       "4  POL049011                 10.1          1.0            56         C13   \n",
       "\n",
       "   region_density segment model fuel_type     max_torque  ... is_brake_assist  \\\n",
       "0            8794      C2    M4    Diesel  250Nm@2750rpm  ...             Yes   \n",
       "1           27003      C1    M9    Diesel  200Nm@1750rpm  ...              No   \n",
       "2            8794      C2    M4    Diesel  250Nm@2750rpm  ...             Yes   \n",
       "3           73430       A    M1       CNG   60Nm@3500rpm  ...              No   \n",
       "4            5410      B2    M5    Diesel  200Nm@3000rpm  ...              No   \n",
       "\n",
       "  is_power_door_locks  is_central_locking is_power_steering  \\\n",
       "0                 Yes                 Yes               Yes   \n",
       "1                 Yes                 Yes               Yes   \n",
       "2                 Yes                 Yes               Yes   \n",
       "3                  No                  No               Yes   \n",
       "4                 Yes                 Yes               Yes   \n",
       "\n",
       "  is_driver_seat_height_adjustable is_day_night_rear_view_mirror is_ecw  \\\n",
       "0                              Yes                            No    Yes   \n",
       "1                              Yes                           Yes    Yes   \n",
       "2                              Yes                            No    Yes   \n",
       "3                               No                            No     No   \n",
       "4                               No                            No    Yes   \n",
       "\n",
       "  is_speed_alert ncap_rating  claim_status  \n",
       "0            Yes           3             0  \n",
       "1            Yes           4             0  \n",
       "2            Yes           3             0  \n",
       "3            Yes           0             0  \n",
       "4            Yes           5             0  \n",
       "\n",
       "[5 rows x 41 columns]"
      ]
     },
     "execution_count": 1,
     "metadata": {},
     "output_type": "execute_result"
    }
   ],
   "source": [
    "import pandas as pd\n",
    "\n",
    "file_path = 'DATA SCIENCE/Insurance claims data.csv'\n",
    "data = pd.read_csv(file_path)\n",
    "data.head()\n"
   ]
  },
  {
   "cell_type": "code",
   "execution_count": 4,
   "id": "2bb9ed49",
   "metadata": {
    "scrolled": true
   },
   "outputs": [
    {
     "name": "stdout",
     "output_type": "stream",
     "text": [
      "<class 'pandas.core.frame.DataFrame'>\n",
      "RangeIndex: 58592 entries, 0 to 58591\n",
      "Data columns (total 41 columns):\n",
      " #   Column                            Non-Null Count  Dtype  \n",
      "---  ------                            --------------  -----  \n",
      " 0   policy_id                         58592 non-null  object \n",
      " 1   subscription_length               58592 non-null  float64\n",
      " 2   vehicle_age                       58592 non-null  float64\n",
      " 3   customer_age                      58592 non-null  int64  \n",
      " 4   region_code                       58592 non-null  object \n",
      " 5   region_density                    58592 non-null  int64  \n",
      " 6   segment                           58592 non-null  object \n",
      " 7   model                             58592 non-null  object \n",
      " 8   fuel_type                         58592 non-null  object \n",
      " 9   max_torque                        58592 non-null  object \n",
      " 10  max_power                         58592 non-null  object \n",
      " 11  engine_type                       58592 non-null  object \n",
      " 12  airbags                           58592 non-null  int64  \n",
      " 13  is_esc                            58592 non-null  object \n",
      " 14  is_adjustable_steering            58592 non-null  object \n",
      " 15  is_tpms                           58592 non-null  object \n",
      " 16  is_parking_sensors                58592 non-null  object \n",
      " 17  is_parking_camera                 58592 non-null  object \n",
      " 18  rear_brakes_type                  58592 non-null  object \n",
      " 19  displacement                      58592 non-null  int64  \n",
      " 20  cylinder                          58592 non-null  int64  \n",
      " 21  transmission_type                 58592 non-null  object \n",
      " 22  steering_type                     58592 non-null  object \n",
      " 23  turning_radius                    58592 non-null  float64\n",
      " 24  length                            58592 non-null  int64  \n",
      " 25  width                             58592 non-null  int64  \n",
      " 26  gross_weight                      58592 non-null  int64  \n",
      " 27  is_front_fog_lights               58592 non-null  object \n",
      " 28  is_rear_window_wiper              58592 non-null  object \n",
      " 29  is_rear_window_washer             58592 non-null  object \n",
      " 30  is_rear_window_defogger           58592 non-null  object \n",
      " 31  is_brake_assist                   58592 non-null  object \n",
      " 32  is_power_door_locks               58592 non-null  object \n",
      " 33  is_central_locking                58592 non-null  object \n",
      " 34  is_power_steering                 58592 non-null  object \n",
      " 35  is_driver_seat_height_adjustable  58592 non-null  object \n",
      " 36  is_day_night_rear_view_mirror     58592 non-null  object \n",
      " 37  is_ecw                            58592 non-null  object \n",
      " 38  is_speed_alert                    58592 non-null  object \n",
      " 39  ncap_rating                       58592 non-null  int64  \n",
      " 40  claim_status                      58592 non-null  int64  \n",
      "dtypes: float64(3), int64(10), object(28)\n",
      "memory usage: 18.3+ MB\n"
     ]
    }
   ],
   "source": [
    "data.info()"
   ]
  },
  {
   "cell_type": "markdown",
   "id": "9f49d1b7",
   "metadata": {},
   "source": [
    "## Data Information:"
   ]
  },
  {
   "cell_type": "markdown",
   "id": "b1fc5290",
   "metadata": {},
   "source": [
    "1.The dataset contains 58,592 entries with 41 columns\n",
    "\n",
    "2.There is a mix of binary, numerical, and categorical variable\n",
    "\n",
    "3.The claim_status is the target variable, which is the variable we want to be able to predict whether the claim was made (1) or not made (0)."
   ]
  },
  {
   "cell_type": "code",
   "execution_count": 14,
   "id": "066498a9",
   "metadata": {
    "scrolled": true
   },
   "outputs": [
    {
     "data": {
      "image/png": "[encoded data removed]",
      "text/plain": [
       "<Figure size 600x400 with 1 Axes>"
      ]
     },
     "metadata": {},
     "output_type": "display_data"
    }
   ],
   "source": [
    "import matplotlib.pyplot as plt\n",
    "import seaborn as sns\n",
    "\n",
    "plt.figure(figsize=(6, 4))\n",
    "sns.countplot(x='claim_status', data=data)\n",
    "plt.title('Distribution of Claim Status')\n",
    "plt.xlabel('Claim Status (0 = No Claim, 1 = Claim)')\n",
    "plt.ylabel('Count')\n",
    "plt.show()"
   ]
  },
  {
   "cell_type": "markdown",
   "id": "c4198aca",
   "metadata": {},
   "source": [
    "<h1 style=\"font-size: 42px;\">Method (15min)</h1>\n",
    "\n",
    "**For those who prefer a quick summary and don't want to dive into the details, feel free to skip ahead to the \"Selected Method\" section.**\n",
    "<br></br>\n",
    "\n",
    "And for those who decided to stay and feeling a bit adventurous, I will make the explanation as simple to understood for your further project related to this stuff. In machine learning there is no single correct answer, but make an informed decision based on multiple method. Now back to the topic, based on existing research, methods such as over-sampling and down-sampling is the most common to address class imbalance problems:\n",
    "\n",
    "* **Over-sampling**: This involves replicating examples from the minority class until it balances with the majority class. However, while this increases the number of examples, it does not provide new information, thus not solving the issue of insufficient data.\n",
    "\n",
    "- **Down-sampling**: This involves eliminating examples from the majority class until it is balanced with the minority class. The downside of this approach is the potential loss of important information from the majority class.\n",
    "\n",
    "Though sampling methods like these are commonly used, research indicates that there is no formal standard for determining the most suitable class distribution. For example, a 50:50 ratio between minority and majority classes in the training set doesn’t always yield optimal performance.\n",
    "<br></br>\n",
    "\n",
    "In general, there is two way of approach for Classification Imbalance case, which is data-level approach, and algorithm-level approach. Data-level approach such as down-sampling, over-sampling, SMOTE. Algorithm-level approach is feature-selection, kNN, SVM, ensemble method, etc.\n",
    "<br></br>\n",
    "\n",
    "# Data-Level Approach\n",
    "\n",
    "## A. SMOTE (Synthetic Minority Over-sampling Technique)\n",
    "\n",
    "In the paper [Classification with Class Imbalance Problem: A Review](https://www.researchgate.net/publication/288228469_Classification_with_class_imbalance_problem_A_review), SMOTE is a preferred alternative to traditional sampling methods (over-sampling, down-sampling) due to the following reasons:\n",
    "\n",
    "- **Diversity**: SMOTE balances the class distribution while adding variety to the training data, leading to better generalization of the model.\n",
    "\n",
    "- **Preventing Overfitting**: Unlike random oversampling, which duplicates examples, SMOTE generates synthetic, slightly different variations of the minority class. This reduces the risk of overfitting and ensures the model doesn't memorize specific instances.\n",
    "<br></br>\n",
    "\n",
    "![image.png](https://miro.medium.com/v2/resize:fit:1400/1*CeOd_Wbn7O6kpjSTKTIUog.png)\n",
    "<br></br>\n",
    "\n",
    "## B. Combining Downsampling and Upweighting\n",
    "\n",
    "According to [Google's Datasets: Imbalanced Datasets](https://developers.google.com/machine-learning/crash-course/overfitting/imbalanced-datasets), an effective method is to downsample the majority class and then upweight the examples in that downsampled majority class. This process ensures:\n",
    "\n",
    "- **Balanced Influence**: Even though fewer examples from the majority class are used, they carry more weight during training, maintaining the overall balance between classes.\n",
    "\n",
    "- **Reduced Bias**: Upweighting the majority class after downsampling helps reduce prediction bias. This ensures the model's predictions reflect the true distribution of the dataset, avoiding an overemphasis on the minority class.\n",
    "\n",
    "![image.png](https://developers.google.com/static/machine-learning/data-prep/images/downsampling-upweighting-v5.svg)\n",
    "\n",
    "## C. Feature Selection\n",
    "Feature Selection is a method that involves identifying and retaining only the most relevant features for model training. This process reduces the dataset’s dimensionality, which can improve model performance, interpretability, and training efficiency. In the context of class imbalance, feature selection helps by focusing the model on features that provide the most effect for the minority class.\n",
    "\n",
    "![image.png](feature_selection.png)"
   ]
  },
  {
   "cell_type": "markdown",
   "id": "dd9f406b",
   "metadata": {},
   "source": [
    "# Algorithm-Level Approach\n",
    "Algorithm-level approach is like to allow your model to handle tricky situation on its own - no need to mess with the dataset\n",
    "\n",
    "\n",
    "The example would be:\n",
    "## A. Improved Algorithm\n",
    "These are specialized versions of traditional algorithms, modified to handle class imbalances.\n",
    "### 1. z-SVM\n",
    "This is a modified Support Vector Machine (SVM) where a parameter (z) adjusts the decision boundary. Imagine you're trying to draw a line that separates two groups of data points, wit one group is smaller (minority class). The goal is to optimize the line to account for smaller group to make sure it is not ignored.\n",
    "\n",
    "### 2. GSVM-RU\n",
    "Another modified SVM algorithm that group similar items together into clusters, so algorithm can focus on the minority dataset.\n",
    "\n",
    "\n",
    "### 3. k-Exemplar-based Nearest Neighbor (kENN)\n",
    "This is an improvement on k-Nearest Neighbor (k-NN) where each minority data has a circle around them, so the algorithm pay attention to the data that is close around them when trying to assign class boundaries.\n",
    "\n",
    "### 4. CCNND \n",
    "A k-NN variant that calculates relative distances between each data to understand where to put the class boundaries.\n",
    "\n",
    "### 5. Fuzzy Logic Methods\n",
    "These methods use \"if-then\" rules like decision-tree. \n",
    "\n",
    "Example: If we’re classifying customers as \"high risk\" or \"low risk,\" a fuzzy rule-based system might say, \"IF income is low AND credit score is low, THEN classify as high risk.\"\n",
    "\n",
    "\n",
    "## B. Ensemble Methods\n",
    "Ensemble Methods is split into two main types:\n",
    "\n",
    "### 1. Bagging\n",
    "This technique creates multiple smaller subsets of data from the original dataset, sampling with replacement. Each subset is then used to train a separate model (classifier), and the predictions from all models are combined for the final decision. Bagging helps reduce prediction variance and improves model stability.\n",
    "\n",
    "### 2. Boosting\n",
    "Boosting assigns different weights to data points, emphasizing those misclassified in previous iterations. Each model in the sequence learns to correct errors made by its predecessor. This process continues over several iterations, adjusting weights and refining predictions until the model achieves optimal performance. Boosting reduces bias and improves prediction accuracy, especially for difficult-to-classify cases.\n",
    "\n",
    "<b>Couple of Boosting Method:</b>\n",
    "\n",
    "* AdaBoost: Boosting algorithm that adjusts the weights of examples after each iteration.\n",
    "* SMOTEBoost: Combines SMOTE (a method for generating synthetic minority class examples) with boosting to improve performance on imbalanced datasets.\n",
    "* RUSBoost \n",
    "* DataBoost-IM \n",
    "* cost-sensitive boosting\n",
    "\n",
    "\n",
    "# Hybrid Approaches\n",
    "Hybrid approaches combine different machine learning techniques to tackle class imbalance. These methods often involve mixing multiple algorithms or approaches to achieve better performance.\n",
    "\n",
    "![image.png](https://padraig.ca/wp-content/uploads/2022/02/good-enough.jpg)\n",
    "<br></br>"
   ]
  },
  {
   "cell_type": "markdown",
   "id": "b7d691ab",
   "metadata": {},
   "source": [
    "# When is it Overkill?!?!\n",
    "Now we raise an issue whether should we use data-level approach or algorithm-level approach solely or can we mix both method for a case. Isn't it way overkill it or isn't one method of approach is already enough? Now I'll try to convince those who is first time handle class imbalance, that it is a good idea why using both approach together is beneficial. \n",
    "If we already applied a data-level approach, then we already simplified or balanced the data to some extend. But, if the problem is still complex, a simple model might not capture that complexity well. There's where the powerful algorithm come in.\n",
    "\n",
    "However, if our dataset is relatively simple, applying complex model like SVM, XGBoost would be an overkill as it is computationally expensive and might add unnecessary complexity.\n",
    "\n",
    "\n",
    "# Performance Measure\n",
    "As we had discussed earlier, since accuracy is not a good indicator to measure how good is our model, we will use several way to grade the performance of our model.\n",
    "\n",
    "## 1. Precision\n",
    "Precision predict how many positive prediction made by our model that is actually correct. For example, if we have 6 actual fraud case and our model predict 10 fraud case out of many data, our precision is 60%\n",
    "\n",
    "## 2. Recall\n",
    "Recall is more focused on actual positive cases. It answer, \"Out of 6 positive cases, how many did our model identify correctly?\". Recall put focus on actually catch as many of actual positive case, even if it results in many false positive\n",
    "![image.png](https://miro.medium.com/v2/resize:fit:970/1*XbE6Fx9P9Q0w5QG-52BaRQ.png)\n",
    "\n",
    "## 3. F1-Score\n",
    "is a combination of precision and recall\n",
    "\n",
    "$$\n",
    "F1 = 2 \\times \\frac{\\text{Precision} \\times \\text{Recall}}{\\text{Precision} + \\text{Recall}}\n",
    "$$\n",
    "\n",
    "\n",
    "## 4. AUC-ROC (Area Under the Receiver Operating Characteristic Curve)\n",
    "Is a performance metric that evaluates a model’s ability to distinguish between positive and negative classes. \n",
    "\n",
    "Higher scores (AUC-ROC = 1.0) meaning it can consistently assign higher score to actual claims (positive class) than to non-claims (negative class), which is valuable for assessing risk. If you want to capture more potential claims, you would lower the decision threshold, increasing recall (true positives) but potentially allowing more false positives.\n",
    "\n",
    "If you want to minimize false positives (only flagging high-risk cases), a higher threshold may be more suitable, which could reduce recall but improve precision."
   ]
  },
  {
   "cell_type": "markdown",
   "id": "6c126bdb",
   "metadata": {},
   "source": [
    "<h1 style=\"font-size: 40px;\">Selected Method (3min)</h1>\n",
    "\n",
    "## Step 1: Apply Feature Selection and Downsapling-Upweighting Technique\n",
    "I chose this method because it makes more sense to classify the data based on feature and assign weight when doing downsampling, rather than rely on synthetic dataset\n",
    "\n",
    "## Step 2: Simple Algorithm\n",
    "I would like to continue our analysis using a simple algorithm as a baseline before using more complex method. The purpose is to compare how much improvement so it is not computationally expensive in the future. For initial analysis, I would use Logistic Regression and Naive Bayes\n",
    "\n",
    "\n",
    "## Step 3: Complex Algorithm\n",
    "Once the baseline from simple algorithm is done, the analysis proceeds with more complex algorithms to leverage their advanced capabilities in handling imbalanced data. I will use:\n",
    "\n",
    "**GSVM-RU (Granular Support Vector Machine)**\n",
    "GSVM-RU is a variant of SVM that utilizes granular computing to handle imbalanced datasets by breaking data into clusters (granules). This granular approach improves the SVM's ability to recognize the minority class without overfitting to the majority. Granular SVM ensures that decision boundaries consider the dispersed nature of the minority class, making it more robust for imbalanced data.\n",
    "\n",
    "**k-ENN (Exemplar-based Nearest Neighbor)**\n",
    "k-ENN focuses on expanding the decision boundary around the minority class by generalizing it with Gaussian balls. This method adapts well to datasets where the minority class might be scattered or separated into small clusters. k-ENN’s increases the model's sensitivity to the minority class, which could improve recall and reduce false negatives.\n",
    "\n",
    "**Ensemble Method**\n",
    "I picked SMOTEBoost and RUSBoost for this method since it is the most common model to use for class imbalance.\n",
    "\n",
    "## Step 4:Performance Measure\n",
    "To measure the performance for each method, the evaluation will be performed using precision, recall, F1-Score, and AUC-ROC scoring"
   ]
  },
  {
   "cell_type": "markdown",
   "id": "43d41b1b",
   "metadata": {},
   "source": [
    "<h1 style=\"font-size: 40px;\">Data Processing</h1>"
   ]
  },
  {
   "cell_type": "code",
   "execution_count": 2,
   "id": "f62dc977",
   "metadata": {
    "scrolled": true
   },
   "outputs": [],
   "source": [
    "from sklearn.model_selection import train_test_split\n",
    "from sklearn.linear_model import LogisticRegression\n",
    "from sklearn.naive_bayes import GaussianNB\n",
    "from sklearn.metrics import classification_report, accuracy_score, roc_auc_score\n",
    "\n",
    "#categorical variable -> numerical\n",
    "data_copy = data.copy()\n",
    "for column in data_copy.select_dtypes(include=['object']).columns:\n",
    "    data_copy[column] = data_copy[column].astype('category').cat.codes\n",
    "\n",
    "X = data_copy.drop(columns=['claim_status'])\n",
    "y = data_copy['claim_status']\n",
    "X_train, X_test, y_train, y_test = train_test_split(X, y, test_size=0.3, random_state=42, stratify=y)"
   ]
  },
  {
   "cell_type": "markdown",
   "id": "a1fc9ea3",
   "metadata": {},
   "source": [
    "## Step 1: Feature Selection and Downsampling-Upsampling"
   ]
  },
  {
   "cell_type": "markdown",
   "id": "cc52fc32",
   "metadata": {},
   "source": [
    "#### Feature-Selection"
   ]
  },
  {
   "cell_type": "code",
   "execution_count": 3,
   "id": "2fdd2502",
   "metadata": {
    "scrolled": true
   },
   "outputs": [
    {
     "name": "stdout",
     "output_type": "stream",
     "text": [
      "Selected Features: Index(['policy_id', 'subscription_length', 'vehicle_age', 'customer_age',\n",
      "       'region_code', 'region_density', 'model', 'fuel_type', 'max_torque',\n",
      "       'max_power', 'is_adjustable_steering', 'is_tpms', 'is_parking_sensors',\n",
      "       'rear_brakes_type', 'cylinder', 'steering_type', 'width',\n",
      "       'is_front_fog_lights', 'is_day_night_rear_view_mirror',\n",
      "       'is_speed_alert'],\n",
      "      dtype='object')\n",
      "Shape of X_train after feature selection: (41014, 20)\n",
      "Shape of X_test after feature selection: (17578, 20)\n"
     ]
    }
   ],
   "source": [
    "from sklearn.feature_selection import SelectKBest, f_classif\n",
    "\n",
    "k = 20 #adjustable, later on will test multiple k\n",
    "\n",
    "selector = SelectKBest(score_func=f_classif, k=k)\n",
    "X_train_FS = selector.fit_transform(X_train, y_train)\n",
    "X_test_FS = selector.transform(X_test)\n",
    "\n",
    "selected_features = X_train.columns[selector.get_support()]\n",
    "\n",
    "print(\"Selected Features:\", selected_features)\n",
    "print(\"Shape of X_train after feature selection:\", X_train_FS.shape)\n",
    "print(\"Shape of X_test after feature selection:\", X_test_FS.shape)"
   ]
  },
  {
   "cell_type": "markdown",
   "id": "40210e86",
   "metadata": {},
   "source": [
    "#### Downsampling and Upweighting"
   ]
  },
  {
   "cell_type": "code",
   "execution_count": 12,
   "id": "761d353c",
   "metadata": {},
   "outputs": [
    {
     "name": "stdout",
     "output_type": "stream",
     "text": [
      "Shapes of downsampled data: (5248, 40) (5248,)\n",
      "Class weights: {0: 14.630335365853659, 1: 1}\n"
     ]
    }
   ],
   "source": [
    "from sklearn.utils import resample\n",
    "\n",
    "x_majority = X_train[y_train == 0]\n",
    "x_minority = X_train[y_train == 1]\n",
    "y_majority = y_train[y_train == 0]\n",
    "y_minority = y_train[y_train == 1]\n",
    "\n",
    "X_majority_downsampled, y_majority_downsampled = resample(\n",
    "    x_majority, y_majority, replace=False,  \n",
    "    n_samples=len(x_minority),  \n",
    "    random_state=42 \n",
    ")\n",
    "\n",
    "X_train_downsampled = pd.concat([X_majority_downsampled, x_minority])\n",
    "y_train_downsampled = pd.concat([y_majority_downsampled, y_minority])\n",
    "\n",
    "# majority got assigned the weight differences\n",
    "class_weight_DU = {0: len(x_majority) / len(x_minority), 1: 1} \n",
    "\n",
    "\n",
    "# Display the results of downsampling and the defined class weights\n",
    "print(\"Shapes of downsampled data:\", X_train_downsampled.shape, y_train_downsampled.shape)\n",
    "print(\"Class weights:\", class_weight_DU)"
   ]
  },
  {
   "cell_type": "markdown",
   "id": "92fa145c",
   "metadata": {},
   "source": [
    "## Step 2: Baseline Model"
   ]
  },
  {
   "cell_type": "code",
   "execution_count": 6,
   "id": "a211e22b",
   "metadata": {},
   "outputs": [],
   "source": [
    "from sklearn.model_selection import GridSearchCV\n",
    "\n",
    "# fine-tuning for baseline (no feature selection nor downsampling-upsampling)\n",
    "param_grid_1 = {\n",
    "    'class_weight': [{0: 1, 1: w} for w in range(1, 20)]  \n",
    "}\n",
    "log_reg = LogisticRegression(max_iter=1000, random_state=42)\n",
    "# For fine-tuning, maximizing F1-score for balance between precision and recall\n",
    "grid_search = GridSearchCV(log_reg, param_grid_1, scoring='f1', cv=5)  \n",
    "grid_search.fit(X_train, y_train)\n",
    "\n",
    "best_params = grid_search.best_params_\n",
    "best_score = grid_search.best_score_"
   ]
  },
  {
   "cell_type": "code",
   "execution_count": 65,
   "id": "72d37f4d",
   "metadata": {},
   "outputs": [
    {
     "name": "stdout",
     "output_type": "stream",
     "text": [
      "Logistic Regression Classification Report:\n",
      "              precision    recall  f1-score   support\n",
      "\n",
      "    No Claim       0.96      0.44      0.61     16454\n",
      "       Claim       0.08      0.72      0.15      1124\n",
      "\n",
      "    accuracy                           0.46     17578\n",
      "   macro avg       0.52      0.58      0.38     17578\n",
      "weighted avg       0.90      0.46      0.58     17578\n",
      "\n",
      "AUC-ROC Score for Logistic Regression: 0.6056699860324503\n",
      "Classification Report for Feature-Selected Data:\n",
      "              precision    recall  f1-score   support\n",
      "\n",
      "    No Claim       0.96      0.45      0.61     16454\n",
      "       Claim       0.08      0.72      0.15      1124\n",
      "\n",
      "    accuracy                           0.46     17578\n",
      "   macro avg       0.52      0.58      0.38     17578\n",
      "weighted avg       0.90      0.46      0.58     17578\n",
      "\n",
      "AUC-ROC Score for Feature-Selected Data: 0.6075506740024059\n"
     ]
    }
   ],
   "source": [
    "# Train Logistic Regression without any data-level approach\n",
    "log_reg = LogisticRegression(class_weight=best_params['class_weight'], max_iter=1000, random_state=42)\n",
    "log_reg.fit(X_train, y_train)\n",
    "# Train Logistic Regression on feature-selected data\n",
    "log_reg_fs = LogisticRegression(class_weight=best_params['class_weight'], max_iter=1000, random_state=42) #assumed class_weight is same with no data-level approach\n",
    "log_reg_fs.fit(X_train_FS, y_train)\n",
    "# Train Logistic Regression on Downsampling-Upweighting method\n",
    "log_reg_DU = LogisticRegression(class_weight=class_weight_DU, max_iter=1000, random_state=42)\n",
    "log_reg_DU.fit(X_train_downsampled, y_train_downsampled)\n",
    "\n",
    "# Prediction\n",
    "y_pred_log_reg = log_reg.predict(X_test) # without data-level approach\n",
    "y_proba_log_reg = log_reg.predict_proba(X_test)[:, 1]\n",
    "y_pred_fs = log_reg_fs.predict(X_test_FS) # with Feature Selection\n",
    "y_proba_fs = log_reg_fs.predict_proba(X_test_FS)[:, 1]  # Probabilities for 'Claim' class\n",
    "y_pred_DU = log_reg_DU.predict(X_test)\n",
    "y_proba_DU = log_reg_DU.predict_proba(X_test)[:, 1] \n",
    "\n",
    "# AUC-ROC score\n",
    "auc_roc_log_reg = roc_auc_score(y_test, y_proba_log_reg) # without data-level approach\n",
    "auc_roc_fs = roc_auc_score(y_test, y_proba_fs)\n",
    "auc_roc_DU = roc_auc_score(y_test, y_proba)\n",
    "\n",
    "# Evaluate Logistic Regression\n",
    "print(\"Logistic Regression Classification Report:\")\n",
    "print(classification_report(y_test, y_pred_log_reg, target_names=['No Claim', 'Claim']))\n",
    "print(\"AUC-ROC Score for Logistic Regression:\", auc_roc_log_reg)\n",
    "\n",
    "print ('----------------------------------------------------------')\n",
    "\n",
    "#Evaluate FeatureSelection-Logistic Regression\n",
    "print(\"FeatureSelection-Logistic Regression Data:\")\n",
    "print(classification_report(y_test, y_pred_fs, target_names=['No Claim', 'Claim']))\n",
    "print(\"AUC-ROC Score for Feature-Selected Data:\", auc_roc_fs)\n",
    "\n",
    "print ('----------------------------------------------------------')\n",
    "\n",
    "#Evaluate Downsampling Upweighting -Logistic Regression\n",
    "print(\"FeatureSelection-Logistic Regression Data:\")\n",
    "print(classification_report(y_test, y_pred_DU, target_names=['No Claim', 'Claim']))\n",
    "print(\"AUC-ROC Score for Feature-Selected Data:\", auc_roc_DU)"
   ]
  },
  {
   "cell_type": "code",
   "execution_count": null,
   "id": "0e4f88ef",
   "metadata": {},
   "outputs": [],
   "source": [
    "# Train Logistic Regression on feature-selected data\n",
    "log_reg_fs = LogisticRegression(class_weight=best_params['class_weight'], max_iter=1000, random_state=42)\n",
    "log_reg_fs.fit(X_train_FS, y_train)\n",
    "\n",
    "# Predict and get probabilities on the test set\n",
    "y_pred_fs = log_reg_fs.predict(X_test_FS)\n",
    "y_proba_fs = log_reg_fs.predict_proba(X_test_FS)[:, 1]  # Probabilities for 'Claim' class\n",
    "\n",
    "# Display classification report and AUC-ROC score\n",
    "report_fs = classification_report(y_test, y_pred_fs, target_names=['No Claim', 'Claim'])\n",
    "auc_roc_fs = roc_auc_score(y_test, y_proba_fs)\n",
    "\n",
    "print(\"Classification Report for Feature-Selected Data:\")\n",
    "print(report_fs)\n",
    "print(\"AUC-ROC Score for Feature-Selected Data:\", auc_roc_fs)"
   ]
  },
  {
   "cell_type": "code",
   "execution_count": null,
   "id": "fb09a663",
   "metadata": {},
   "outputs": [],
   "source": [
    "log_reg_DU = LogisticRegression(class_weight=class_weight_DU, max_iter=1000, random_state=42)\n",
    "\n",
    "# Train the model on the downsampled data\n",
    "log_reg_DU.fit(X_train_downsampled, y_train_downsampled)\n",
    "\n",
    "# Predict on the test set\n",
    "y_pred = log_reg_DU.predict(X_test)\n",
    "y_proba = log_reg.predict_proba(X_test)[:, 1] \n",
    "\n",
    "# Display performance metrics\n",
    "print(\"Classification Report:\")\n",
    "print(classification_report(y_test, y_pred, target_names=['No Claim', 'Claim']))\n",
    "print(\"AUC-ROC Score:\", roc_auc_score(y_test, y_proba))"
   ]
  },
  {
   "cell_type": "code",
   "execution_count": null,
   "id": "70cdbbef",
   "metadata": {},
   "outputs": [],
   "source": []
  },
  {
   "cell_type": "markdown",
   "id": "bf668edb",
   "metadata": {},
   "source": [
    "<h1 style=\"font-size: 40px;\">Results(3min)</h1>"
   ]
  }
 ],
 "metadata": {
  "kernelspec": {
   "display_name": "Python 3 (ipykernel)",
   "language": "python",
   "name": "python3"
  },
  "language_info": {
   "codemirror_mode": {
    "name": "ipython",
    "version": 3
   },
   "file_extension": ".py",
   "mimetype": "text/x-python",
   "name": "python",
   "nbconvert_exporter": "python",
   "pygments_lexer": "ipython3",
   "version": "3.9.13"
  }
 },
 "nbformat": 4,
 "nbformat_minor": 5
}
